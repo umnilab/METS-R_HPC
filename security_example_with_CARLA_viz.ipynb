{
  "cells": [
    {
      "cell_type": "markdown",
      "metadata": {
        "vscode": {
          "languageId": "raw"
        }
      },
      "source": [
        "# Security Example with CARLA Visualization - BSM Attack\n",
        "\n",
        "This notebook demonstrates the Basic Safety Message (BSM) replay attack on METS-R simulation with real-time CARLA visualization using the CoSimClient.\n"
      ]
    },
    {
      "cell_type": "code",
      "execution_count": 1,
      "metadata": {},
      "outputs": [
        {
          "name": "stdout",
          "output_type": "stream",
          "text": [
            "All imports successful!\n"
          ]
        }
      ],
      "source": [
        "import sys\n",
        "import os\n",
        "import time\n",
        "import numpy as np\n",
        "import pandas as pd\n",
        "import matplotlib.pyplot as plt\n",
        "import seaborn as sns\n",
        "\n",
        "# METS-R imports\n",
        "from clients.METSRClient import METSRClient\n",
        "from clients.CoSimClient import CoSimClient\n",
        "from utils.util import read_run_config, prepare_sim_dirs, run_simulation_in_docker\n",
        "from utils.carla_util import open_carla\n",
        "from clients.KafkaDataProcessor import KafkaDataProcessor \n",
        "from clients.KafkaDataSender import KafkaDataSender\n",
        "\n",
        "print(\"All imports successful!\")\n"
      ]
    },
    {
      "cell_type": "markdown",
      "metadata": {
        "vscode": {
          "languageId": "raw"
        }
      },
      "source": [
        "## Define the adaptive cruise controller\n"
      ]
    },
    {
      "cell_type": "code",
      "execution_count": 2,
      "metadata": {},
      "outputs": [],
      "source": [
        "# Define a controller \n",
        "import math\n",
        "\n",
        "class HeadingAwareController:\n",
        "    def __init__(self, ego_vid, target_velocity=10.0, max_acceleration=2.0, kp=0.5, min_gap=5.0, cone_angle_deg=60):\n",
        "        self.ego_vid = ego_vid\n",
        "        self.target_velocity = target_velocity\n",
        "        self.max_acceleration = max_acceleration\n",
        "        self.kp = kp\n",
        "        self.min_gap = min_gap\n",
        "        self.cone_angle = math.radians(cone_angle_deg / 2)\n",
        "\n",
        "    def haversine_meters(self, lat1, lon1, lat2, lon2):\n",
        "        \"\"\"Approximate small distance in meters (equirectangular)\"\"\"\n",
        "        R = 6371000  # radius of Earth in meters\n",
        "        x = math.radians(lon2 - lon1) * math.cos(math.radians((lat1 + lat2) / 2))\n",
        "        y = math.radians(lat2 - lat1)\n",
        "        return R * math.sqrt(x*x + y*y)\n",
        "\n",
        "    def compute_acceleration(self, data_stream):\n",
        "        ego = next((v for v in data_stream if v['vid'] == self.ego_vid), None)\n",
        "        if not ego:\n",
        "            raise ValueError(\"Ego vehicle not found\")\n",
        "\n",
        "        ego_lat = ego['latitude']\n",
        "        ego_lon = ego['longitude']\n",
        "        ego_vel = ego['velocity']\n",
        "        ego_heading = ego['heading']\n",
        "\n",
        "        # Find valid front vehicles in heading cone\n",
        "        front_candidates = []\n",
        "        for v in data_stream:\n",
        "            if v['vid'] == self.ego_vid:\n",
        "                continue\n",
        "            \n",
        "            dist = self.haversine_meters(ego_lat, ego_lon, v['latitude'], v['longitude'])\n",
        "            front_candidates.append((dist, v))\n",
        "\n",
        "        if front_candidates:\n",
        "            front_dist, front = min(front_candidates, key=lambda x: x[0])\n",
        "            relative_speed = ego_vel - front['velocity']\n",
        "        else:\n",
        "            front = None\n",
        "            front_dist = float('inf')\n",
        "            relative_speed = 0.0\n",
        "\n",
        "        # --- Control Logic ---\n",
        "        if front and front_dist < self.min_gap:\n",
        "            acceleration = -self.max_acceleration\n",
        "        elif front and front_dist < 2 * self.min_gap and relative_speed > 0:\n",
        "            decel = min(self.max_acceleration, relative_speed ** 2 / (2 * (front_dist - self.min_gap)))\n",
        "            acceleration = -decel\n",
        "        else:\n",
        "            error = self.target_velocity - ego_vel\n",
        "            acceleration = self.kp * error\n",
        "\n",
        "        return max(-self.max_acceleration, min(self.max_acceleration, acceleration))\n"
      ]
    },
    {
      "cell_type": "markdown",
      "metadata": {},
      "source": [
        "## Collect the BSM used for attacking"
      ]
    },
    {
      "cell_type": "code",
      "execution_count": 4,
      "metadata": {},
      "outputs": [],
      "source": [
        "config = read_run_config(\"configs/run_cosim_CARLAT7.json\")\n",
        "config.verbose = False\n",
        "\n",
        "os.chdir(\"docker\")\n",
        "os.system(\"docker-compose up -d\")\n",
        "time.sleep(10) # wait 10s for the Kafka servers to be up\n",
        "os.chdir(\"..\")\n",
        "\n",
        "kafkaDataProcessor = KafkaDataProcessor(config)\n",
        "kafkaDataSender = KafkaDataSender(config)"
      ]
    },
    {
      "cell_type": "code",
      "execution_count": 5,
      "metadata": {},
      "outputs": [],
      "source": [
        "# clear up the Kafka data stream\n",
        "kafkaDataProcessor.clear()"
      ]
    },
    {
      "cell_type": "code",
      "execution_count": 6,
      "metadata": {},
      "outputs": [
        {
          "name": "stdout",
          "output_type": "stream",
          "text": [
            "['output/CARLAT07_20250813_225858_seed_42']\n"
          ]
        }
      ],
      "source": [
        "sim_dirs = prepare_sim_dirs(config)\n",
        "run_simulation_in_docker(config)\n",
        "\n",
        "print(sim_dirs)"
      ]
    },
    {
      "cell_type": "code",
      "execution_count": 7,
      "metadata": {},
      "outputs": [
        {
          "name": "stdout",
          "output_type": "stream",
          "text": [
            "Attempt to connect to ws://localhost:4000 failed. Waiting for 10 seconds before trying again... (5 attempts remaining)\n",
            "Connection established!\n"
          ]
        }
      ],
      "source": [
        "sim_client = METSRClient(host=\"localhost\", sim_folder=sim_dirs[0], port=4000, verbose=False)"
      ]
    },
    {
      "cell_type": "code",
      "execution_count": 8,
      "metadata": {},
      "outputs": [
        {
          "data": {
            "text/plain": [
              "{'DATA': [{'acc': 0.0,\n",
              "   'bearing': 0.0,\n",
              "   'x': 0.0006461581838537697,\n",
              "   'y': 6.29441155986767e-05,\n",
              "   'ID': 0,\n",
              "   'state': 8,\n",
              "   'v_type': 3,\n",
              "   'speed': 0.0}],\n",
              " 'TYPE': 'ANS_vehicle'}"
            ]
          },
          "execution_count": 8,
          "metadata": {},
          "output_type": "execute_result"
        }
      ],
      "source": [
        "veh_num = 1\n",
        "\n",
        "sim_client.generate_trip_between_roads(list(range(1)), \"-20\", \"-20\")\n",
        "\n",
        "# Set up 1 vehicle as V2X vehicle (sensorType = 1)\n",
        "sim_client.update_vehicle_sensor_type(list(range(1)), 1, True)\n",
        " \n",
        "sim_client.query_vehicle(0, True)"
      ]
    },
    {
      "cell_type": "code",
      "execution_count": 9,
      "metadata": {},
      "outputs": [],
      "source": [
        "# create a very slow vehicle (probably by driving a real vehicle), record the information from the data stream\n",
        "replay_data = []\n",
        "for i in range(3000):\n",
        "      data = sim_client.query_vehicle(list(range(1)), True)['DATA'][0]\n",
        "      if data['speed'] > 1:\n",
        "            sim_client.control_vehicle(0, -0.5, True)\n",
        "      \n",
        "      sim_client.tick(1)\n",
        "      res = kafkaDataProcessor.process()\n",
        "      replay_data.append(res)"
      ]
    },
    {
      "cell_type": "code",
      "execution_count": 16,
      "metadata": {},
      "outputs": [
        {
          "name": "stdout",
          "output_type": "stream",
          "text": [
            "Time:  10\n",
            "qty_SV_in_view 9\n",
            "altitude 0.0\n",
            "SemiMinorAxisAccuracy 2.0\n",
            "elevation_confidence 3.0\n",
            "heading 27.34987578092239\n",
            "leap_seconds 18\n",
            "SemiMajorAxisAccuracy 2.0\n",
            "latitude 0.0006501107711037457\n",
            "qty_SV_used 9\n",
            "velocity 0.0\n",
            "GNSS_unavailable False\n",
            "vid 0\n",
            "SemiMajorAxisOrientation 0.0\n",
            "climb 0.0\n",
            "time_confidence 0.0\n",
            "utc_time 10.0\n",
            "GNSS_networkCorrectionsPresent False\n",
            "GNSS_localCorrectionsPresent False\n",
            "GNSS_aPDOPofUnder5 False\n",
            "GNSS_inViewOfUnder5 False\n",
            "utc_fix_mode 3\n",
            "longitude 7.072169310075626e-05\n",
            "velocity_confidence 0.5\n"
          ]
        }
      ],
      "source": [
        "print(\"Time: \" , 10)\n",
        "for key, value in replay_data[10][0].items():\n",
        "      print(key, value)\n",
        "                   "
      ]
    },
    {
      "cell_type": "code",
      "execution_count": 17,
      "metadata": {},
      "outputs": [],
      "source": [
        "sim_client.terminate()"
      ]
    },
    {
      "cell_type": "markdown",
      "metadata": {},
      "source": [
        "## Start the attack"
      ]
    },
    {
      "cell_type": "code",
      "execution_count": 18,
      "metadata": {},
      "outputs": [],
      "source": [
        "# clear up the Kafka data stream\n",
        "kafkaDataProcessor.clear()"
      ]
    },
    {
      "cell_type": "code",
      "execution_count": 19,
      "metadata": {},
      "outputs": [],
      "source": [
        "# Read configuration - Use CARLA T7 map as in security example\n",
        "config = read_run_config(\"configs/run_cosim_CARLAT7.json\")\n",
        "config.verbose = False\n",
        "config.display_all = True  # Enable display of all vehicles"
      ]
    },
    {
      "cell_type": "code",
      "execution_count": 20,
      "metadata": {},
      "outputs": [
        {
          "name": "stdout",
          "output_type": "stream",
          "text": [
            "Simulation directories prepared: ['output/CARLAT07_20250813_230203_seed_42']\n"
          ]
        }
      ],
      "source": [
        "# Prepare simulation directories\n",
        "dest_data_dirs = prepare_sim_dirs(config)\n",
        "print(f\"Simulation directories prepared: {dest_data_dirs}\")\n"
      ]
    },
    {
      "cell_type": "code",
      "execution_count": 21,
      "metadata": {},
      "outputs": [
        {
          "name": "stdout",
          "output_type": "stream",
          "text": [
            "Starting CARLA server...\n",
            "CARLA server started successfully\n"
          ]
        }
      ],
      "source": [
        "# Start CARLA server\n",
        "print(\"Starting CARLA server...\")\n",
        "carla_client, carla_tm = open_carla(config)\n",
        "print(\"CARLA server started successfully\")\n"
      ]
    },
    {
      "cell_type": "code",
      "execution_count": 22,
      "metadata": {},
      "outputs": [
        {
          "name": "stdout",
          "output_type": "stream",
          "text": [
            "Launching METS-R simulation...\n"
          ]
        }
      ],
      "source": [
        "# Launch METS-R simulation in Docker\n",
        "print(\"Launching METS-R simulation...\")\n",
        "container_ids = run_simulation_in_docker(config)\n"
      ]
    },
    {
      "cell_type": "code",
      "execution_count": 23,
      "metadata": {},
      "outputs": [
        {
          "name": "stdout",
          "output_type": "stream",
          "text": [
            "Creating CoSimClient...\n",
            "Attempt to connect to ws://localhost:4000 failed. Waiting for 10 seconds before trying again... (5 attempts remaining)\n",
            "Connection established!\n",
            "CoSimClient created successfully!\n"
          ]
        }
      ],
      "source": [
        "# Create CoSimClient (no co-simulation roads needed for visualization-only mode)\n",
        "print(\"Creating CoSimClient...\")\n",
        "cosim_client = CoSimClient(config, carla_client, carla_tm)\n",
        "\n",
        "print(\"CoSimClient created successfully!\")\n"
      ]
    },
    {
      "cell_type": "code",
      "execution_count": 24,
      "metadata": {},
      "outputs": [
        {
          "name": "stdout",
          "output_type": "stream",
          "text": [
            "Generating initial trips between roads...\n"
          ]
        },
        {
          "data": {
            "text/plain": [
              "{'CODE': 'OK',\n",
              " 'DATA': [{'STATUS': 'OK', 'ID': 1}],\n",
              " 'TYPE': 'CTRL_updateVehicleSensorType'}"
            ]
          },
          "execution_count": 24,
          "metadata": {},
          "output_type": "execute_result"
        }
      ],
      "source": [
        "cosim_client.metsr.tick(10)\n",
        "# Generate trips between roads as in security example\n",
        "print(\"Generating initial trips between roads...\")\n",
        "\n",
        "# Following security_example.ipynb pattern: generate trips between specific roads\n",
        "# Vehicle 0 travels from road \"-48#0\" to road \"-50\"\n",
        "cosim_client.metsr.generate_trip_between_roads(list(range(1, 11)), \"-20\", \"-20\")\n",
        "\n",
        "controller = HeadingAwareController(1)\n",
        "\n",
        "cosim_client.metsr.update_vehicle_sensor_type(1, 1, True)\n"
      ]
    },
    {
      "cell_type": "code",
      "execution_count": 25,
      "metadata": {},
      "outputs": [],
      "source": [
        "cosim_client.set_custom_camera(80, -110, 180)"
      ]
    },
    {
      "cell_type": "code",
      "execution_count": null,
      "metadata": {},
      "outputs": [
        {
          "name": "stdout",
          "output_type": "stream",
          "text": [
            "Running simulation with BSM attack and CARLA visualization...\n",
            "Vehicles with compromised sensors should exhibit different behavior patterns\n"
          ]
        }
      ],
      "source": [
        "# Run simulation with BSM attack active and CARLA visualization\n",
        "print(\"Running simulation with BSM attack and CARLA visualization...\")\n",
        "print(\"Vehicles with compromised sensors should exhibit different behavior patterns\")\n",
        "\n",
        "attacked_data = {}\n",
        "\n",
        "try:\n",
        "    # Run simulation for specified duration\n",
        "    for i in range(6000):\n",
        "        # Step simulation with CARLA visualization\n",
        "        cosim_client.step()\n",
        "        \n",
        "        # Collect data every 10 ticks for analysis\n",
        "        if i + 10 < 3000:\n",
        "            if replay_data[i+10] is not None:\n",
        "                  for data in replay_data[i+10]:\n",
        "                        kafkaDataSender.send(\"bsm\", data)\n",
        "        data_stream = kafkaDataProcessor.process()\n",
        "        if data_stream is not None:\n",
        "                vids = [data['vid'] for data in data_stream]\n",
        "                if 1 in vids:\n",
        "                    acc = controller.compute_acceleration(data_stream)\n",
        "                    cosim_client.metsr.control_vehicle(1, acc, True)\n",
        "                else:\n",
        "                    cosim_client.metsr.control_vehicle(1, 0, True)  # no signal then keep the same speed\n",
        "        else:\n",
        "                cosim_client.metsr.control_vehicle(1, 0, True)  # no signal then keep the same speed\n",
        "        vehicle_states = cosim_client.metsr.query_vehicle(list(range(1, 101)), True)['DATA']\n",
        "        for vid, vehicle_state in zip(list(range(1,101)), vehicle_states):\n",
        "                if vid not in attacked_data:\n",
        "                    attacked_data[vid] = []\n",
        "                # Append the vehicle state to the list for this vid\n",
        "                attacked_data[vid].append(vehicle_state)\n",
        "\n",
        "except KeyboardInterrupt:\n",
        "    print(\"\\nSimulation interrupted by user\")\n"
      ]
    },
    {
      "cell_type": "code",
      "execution_count": 23,
      "metadata": {},
      "outputs": [],
      "source": [
        "# Terminate METS-R simulation\n",
        "cosim_client.metsr.terminate()\n",
        "\n",
        "os.chdir(\"docker\")\n",
        "os.system(\"docker-compose down\")\n",
        "os.chdir(\"..\")"
      ]
    },
    {
      "cell_type": "code",
      "execution_count": null,
      "metadata": {},
      "outputs": [
        {
          "data": {
            "text/plain": [
              "(-3.0, 3.0)"
            ]
          },
          "execution_count": 24,
          "metadata": {},
          "output_type": "execute_result"
        },
        {
          "data": {
            "image/png": "[encoded data removed]",
            "text/plain": [
              "<Figure size 1000x300 with 2 Axes>"
            ]
          },
          "metadata": {},
          "output_type": "display_data"
        }
      ],
      "source": [
        "# data analysis\n",
        "import matplotlib.pyplot as plt\n",
        "import numpy as np\n",
        "\n",
        "fig, axs = plt.subplots(1,2,figsize=(10, 3), sharex=True, sharey=False)\n",
        "\n",
        "for vid in range(1, 11):\n",
        "      attacked_speed = [data['speed'] for data in attacked_data[vid]]\n",
        "      attacked_acc = [data['acc'] for data in attacked_data[vid]]\n",
        "\n",
        "      axs[0].plot(attacked_speed, lw=0.5)\n",
        "      axs[1].plot(attacked_acc, lw=0.5)\n",
        "\n",
        "axs[0].set_ylabel(r\"Vehicle speed (m/s)\")\n",
        "axs[1].set_ylabel(r\"Vehicle acceleration ($m/s^2$)\")\n",
        "\n",
        "axs[0].set_xticks(np.arange(0, 6001, 600))\n",
        "\n",
        "axs[0].set_xticklabels(np.arange(0, 601, 60))\n",
        "\n",
        "axs[0].set_xlabel(\"Second\")\n",
        "axs[1].set_xlabel(\"Second\")\n",
        "\n",
        "axs[0].set_title(\"Vehicle speed\")\n",
        "axs[1].set_title(\"Vehicle acc\")\n",
        "\n",
        "axs[0].set_xlim([0, 6000])\n",
        "axs[0].set_ylim([0, 17])\n",
        "axs[1].set_xlim([0, 6000])\n",
        "axs[1].set_ylim([-3, 3])"
      ]
    },
    {
      "cell_type": "code",
      "execution_count": null,
      "metadata": {},
      "outputs": [],
      "source": []
    }
  ],
  "metadata": {
    "kernelspec": {
      "display_name": "carla",
      "language": "python",
      "name": "python3"
    },
    "language_info": {
      "codemirror_mode": {
        "name": "ipython",
        "version": 3
      },
      "file_extension": ".py",
      "mimetype": "text/x-python",
      "name": "python",
      "nbconvert_exporter": "python",
      "pygments_lexer": "ipython3",
      "version": "3.8.19"
    }
  },
  "nbformat": 4,
  "nbformat_minor": 2
}
