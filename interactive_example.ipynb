{
 "cells": [
  {
   "cell_type": "markdown",
   "metadata": {},
   "source": [
    "# An example of running the METS-R SIM interactively"
   ]
  },
  {
   "cell_type": "code",
   "execution_count": 20,
   "metadata": {},
   "outputs": [],
   "source": [
    "from util import *\n",
    "import sys\n",
    "import os\n",
    "import argparse\n",
    "import time\n",
    "from RemoteDataClientManager import RemoteDataClientManager"
   ]
  },
  {
   "cell_type": "code",
   "execution_count": 21,
   "metadata": {},
   "outputs": [],
   "source": [
    "config = read_run_config(\"configs/run.config.scenario.json\")\n",
    "config.case_index = 0\n",
    "config.scenario_index = 0\n",
    "config.eco_routing =  False\n",
    "config.eco_routing_bus = False\n",
    "config.bus_scheduling = False\n",
    "config.cooperative = False\n",
    "config.demand_sharable = False\n",
    "config.bus_fleet_size = 20\n",
    "config.taxi_fleet_size = 2000\n",
    "config.verbose = False\n",
    "config.demand_factor = 1.0\n",
    "config.num_threads = 4"
   ]
  },
  {
   "cell_type": "code",
   "execution_count": 22,
   "metadata": {},
   "outputs": [
    {
     "name": "stdout",
     "output_type": "stream",
     "text": [
      "waiting until the server is up at ws://localhost:55170Created all clients!\n",
      "\n"
     ]
    },
    {
     "name": "stdout",
     "output_type": "stream",
     "text": [
      "sever is active at ws://localhost:55170,  running client..\n",
      "ws://localhost:55170 : connection opened\n",
      "ws://localhost:55170 : {\"TICK\":0,\"TYPE\":\"STEP\"}\n"
     ]
    }
   ],
   "source": [
    "prepare_sim_dirs(config)\n",
    "run_simulations(config)\n",
    "# connect to the simulation\n",
    "rdcm = RemoteDataClientManager(config)\n",
    "sim_client = rdcm.rd_clients[0]"
   ]
  },
  {
   "cell_type": "code",
   "execution_count": 23,
   "metadata": {},
   "outputs": [
    {
     "name": "stdout",
     "output_type": "stream",
     "text": [
      "ws://localhost:55170 : {\"TICK\":1,\"TYPE\":\"STEP\"}\n"
     ]
    }
   ],
   "source": [
    "# step forward the simulation\n",
    "sim_client.send_step_message(sim_client.current_tick)"
   ]
  },
  {
   "cell_type": "code",
   "execution_count": 24,
   "metadata": {},
   "outputs": [
    {
     "name": "stdout",
     "output_type": "stream",
     "text": [
      "ws://localhost:55170 : {\"TICK\":2,\"TYPE\":\"STEP\"}\n",
      "ws://localhost:55170 : {\"TICK\":3,\"TYPE\":\"STEP\"}\n",
      "ws://localhost:55170 : {\"TICK\":4,\"TYPE\":\"STEP\"}\n",
      "ws://localhost:55170 : {\"TICK\":5,\"TYPE\":\"STEP\"}\n",
      "ws://localhost:55170 : {\"TICK\":6,\"TYPE\":\"STEP\"}\n",
      "ws://localhost:55170 : {\"TICK\":7,\"TYPE\":\"STEP\"}\n",
      "ws://localhost:55170 : {\"TICK\":8,\"TYPE\":\"STEP\"}\n",
      "ws://localhost:55170 : {\"TICK\":9,\"TYPE\":\"STEP\"}\n",
      "ws://localhost:55170 : {\"TICK\":10,\"TYPE\":\"STEP\"}\n",
      "ws://localhost:55170 : {\"TICK\":11,\"TYPE\":\"STEP\"}\n",
      "ws://localhost:55170 : {\"TICK\":12,\"TYPE\":\"STEP\"}\n",
      "ws://localhost:55170 : {\"TICK\":13,\"TYPE\":\"STEP\"}\n",
      "ws://localhost:55170 : {\"TICK\":14,\"TYPE\":\"STEP\"}\n",
      "ws://localhost:55170 : {\"TICK\":15,\"TYPE\":\"STEP\"}\n",
      "ws://localhost:55170 : {\"TICK\":16,\"TYPE\":\"STEP\"}\n",
      "ws://localhost:55170 : {\"TICK\":17,\"TYPE\":\"STEP\"}\n",
      "ws://localhost:55170 : {\"TICK\":18,\"TYPE\":\"STEP\"}\n",
      "ws://localhost:55170 : {\"TICK\":19,\"TYPE\":\"STEP\"}\n",
      "ws://localhost:55170 : {\"TICK\":20,\"TYPE\":\"STEP\"}\n",
      "ws://localhost:55170 : {\"TICK\":21,\"TYPE\":\"STEP\"}\n",
      "ws://localhost:55170 : {\"TICK\":22,\"TYPE\":\"STEP\"}\n",
      "ws://localhost:55170 : {\"TICK\":23,\"TYPE\":\"STEP\"}\n",
      "ws://localhost:55170 : {\"TICK\":24,\"TYPE\":\"STEP\"}\n",
      "ws://localhost:55170 : {\"TICK\":25,\"TYPE\":\"STEP\"}\n",
      "ws://localhost:55170 : {\"TICK\":26,\"TYPE\":\"STEP\"}\n",
      "ws://localhost:55170 : {\"TICK\":27,\"TYPE\":\"STEP\"}\n",
      "ws://localhost:55170 : {\"TICK\":28,\"TYPE\":\"STEP\"}\n",
      "ws://localhost:55170 : {\"TICK\":29,\"TYPE\":\"STEP\"}\n",
      "ws://localhost:55170 : {\"TICK\":30,\"TYPE\":\"STEP\"}\n",
      "ws://localhost:55170 : {\"TICK\":31,\"TYPE\":\"STEP\"}\n",
      "ws://localhost:55170 : {\"TICK\":32,\"TYPE\":\"STEP\"}\n",
      "ws://localhost:55170 : {\"TICK\":33,\"TYPE\":\"STEP\"}\n",
      "ws://localhost:55170 : {\"TICK\":34,\"TYPE\":\"STEP\"}\n",
      "ws://localhost:55170 : {\"TICK\":35,\"TYPE\":\"STEP\"}\n",
      "ws://localhost:55170 : {\"TICK\":36,\"TYPE\":\"STEP\"}\n",
      "ws://localhost:55170 : {\"TICK\":37,\"TYPE\":\"STEP\"}\n",
      "ws://localhost:55170 : {\"TICK\":38,\"TYPE\":\"STEP\"}\n",
      "ws://localhost:55170 : {\"TICK\":39,\"TYPE\":\"STEP\"}\n",
      "ws://localhost:55170 : {\"TICK\":40,\"TYPE\":\"STEP\"}\n",
      "ws://localhost:55170 : {\"TICK\":41,\"TYPE\":\"STEP\"}\n",
      "ws://localhost:55170 : {\"TICK\":42,\"TYPE\":\"STEP\"}\n",
      "ws://localhost:55170 : {\"TICK\":43,\"TYPE\":\"STEP\"}\n",
      "ws://localhost:55170 : {\"TICK\":44,\"TYPE\":\"STEP\"}\n",
      "ws://localhost:55170 : {\"TICK\":45,\"TYPE\":\"STEP\"}\n",
      "ws://localhost:55170 : {\"TICK\":46,\"TYPE\":\"STEP\"}\n",
      "ws://localhost:55170 : {\"TICK\":47,\"TYPE\":\"STEP\"}\n",
      "ws://localhost:55170 : {\"TICK\":48,\"TYPE\":\"STEP\"}\n",
      "ws://localhost:55170 : {\"TICK\":49,\"TYPE\":\"STEP\"}\n",
      "ws://localhost:55170 : {\"TICK\":50,\"TYPE\":\"STEP\"}\n",
      "ws://localhost:55170 : {\"TICK\":51,\"TYPE\":\"STEP\"}\n",
      "ws://localhost:55170 : {\"TICK\":52,\"TYPE\":\"STEP\"}\n",
      "ws://localhost:55170 : {\"TICK\":53,\"TYPE\":\"STEP\"}\n",
      "ws://localhost:55170 : {\"TICK\":54,\"TYPE\":\"STEP\"}\n",
      "ws://localhost:55170 : {\"TICK\":55,\"TYPE\":\"STEP\"}\n",
      "ws://localhost:55170 : {\"TICK\":56,\"TYPE\":\"STEP\"}\n",
      "ws://localhost:55170 : {\"TICK\":57,\"TYPE\":\"STEP\"}\n",
      "ws://localhost:55170 : {\"TICK\":58,\"TYPE\":\"STEP\"}\n",
      "ws://localhost:55170 : {\"TICK\":59,\"TYPE\":\"STEP\"}\n",
      "ws://localhost:55170 : {\"TICK\":60,\"TYPE\":\"STEP\"}\n",
      "ws://localhost:55170 : {\"TICK\":61,\"TYPE\":\"STEP\"}\n",
      "ws://localhost:55170 : {\"TICK\":62,\"TYPE\":\"STEP\"}\n",
      "ws://localhost:55170 : {\"TICK\":63,\"TYPE\":\"STEP\"}\n",
      "ws://localhost:55170 : {\"TICK\":64,\"TYPE\":\"STEP\"}\n",
      "ws://localhost:55170 : {\"TICK\":65,\"TYPE\":\"STEP\"}\n",
      "ws://localhost:55170 : {\"TICK\":66,\"TYPE\":\"STEP\"}\n",
      "ws://localhost:55170 : {\"TICK\":67,\"TYPE\":\"STEP\"}\n",
      "ws://localhost:55170 : {\"TICK\":68,\"TYPE\":\"STEP\"}\n",
      "ws://localhost:55170 : {\"TICK\":69,\"TYPE\":\"STEP\"}\n",
      "ws://localhost:55170 : {\"TICK\":70,\"TYPE\":\"STEP\"}\n",
      "ws://localhost:55170 : {\"TICK\":71,\"TYPE\":\"STEP\"}\n",
      "ws://localhost:55170 : {\"TICK\":72,\"TYPE\":\"STEP\"}\n",
      "ws://localhost:55170 : {\"TICK\":73,\"TYPE\":\"STEP\"}\n",
      "ws://localhost:55170 : {\"TICK\":74,\"TYPE\":\"STEP\"}\n",
      "ws://localhost:55170 : {\"TICK\":75,\"TYPE\":\"STEP\"}\n",
      "ws://localhost:55170 : {\"TICK\":76,\"TYPE\":\"STEP\"}\n",
      "ws://localhost:55170 : {\"TICK\":77,\"TYPE\":\"STEP\"}\n",
      "ws://localhost:55170 : {\"TICK\":78,\"TYPE\":\"STEP\"}\n",
      "ws://localhost:55170 : {\"TICK\":79,\"TYPE\":\"STEP\"}\n",
      "ws://localhost:55170 : {\"TICK\":80,\"TYPE\":\"STEP\"}\n",
      "ws://localhost:55170 : {\"TICK\":81,\"TYPE\":\"STEP\"}\n",
      "ws://localhost:55170 : {\"TICK\":82,\"TYPE\":\"STEP\"}\n",
      "ws://localhost:55170 : {\"TICK\":83,\"TYPE\":\"STEP\"}\n",
      "ws://localhost:55170 : {\"TICK\":84,\"TYPE\":\"STEP\"}\n",
      "ws://localhost:55170 : {\"TICK\":85,\"TYPE\":\"STEP\"}\n",
      "ws://localhost:55170 : {\"TICK\":86,\"TYPE\":\"STEP\"}\n",
      "ws://localhost:55170 : {\"TICK\":87,\"TYPE\":\"STEP\"}\n",
      "ws://localhost:55170 : {\"TICK\":88,\"TYPE\":\"STEP\"}\n",
      "ws://localhost:55170 : {\"TICK\":89,\"TYPE\":\"STEP\"}\n",
      "ws://localhost:55170 : {\"TICK\":90,\"TYPE\":\"STEP\"}\n",
      "ws://localhost:55170 : {\"TICK\":91,\"TYPE\":\"STEP\"}\n",
      "ws://localhost:55170 : {\"TICK\":92,\"TYPE\":\"STEP\"}\n",
      "ws://localhost:55170 : {\"TICK\":93,\"TYPE\":\"STEP\"}\n",
      "ws://localhost:55170 : {\"TICK\":94,\"TYPE\":\"STEP\"}\n",
      "ws://localhost:55170 : {\"TICK\":95,\"TYPE\":\"STEP\"}\n",
      "ws://localhost:55170 : {\"TICK\":96,\"TYPE\":\"STEP\"}\n",
      "ws://localhost:55170 : {\"TICK\":97,\"TYPE\":\"STEP\"}\n",
      "ws://localhost:55170 : {\"TICK\":98,\"TYPE\":\"STEP\"}\n",
      "ws://localhost:55170 : {\"TICK\":99,\"TYPE\":\"STEP\"}\n",
      "ws://localhost:55170 : {\"TICK\":100,\"TYPE\":\"STEP\"}\n",
      "ws://localhost:55170 : {\"TICK\":101,\"TYPE\":\"STEP\"}\n"
     ]
    }
   ],
   "source": [
    "# step forward for 100 steps\n",
    "# TODO: remove the time.sleep setting using a while loop, then package the code into a function\n",
    "for i in range(100):\n",
    "    time.sleep(0.1)\n",
    "    sim_client.send_step_message(sim_client.current_tick)"
   ]
  },
  {
   "cell_type": "code",
   "execution_count": 25,
   "metadata": {},
   "outputs": [
    {
     "name": "stdout",
     "output_type": "stream",
     "text": [
      "ws://localhost:55170 : {\"id_list\":[36864,36865,36866,36867,36868,36869,36870,36871,36872,36873,36874,36875,36876,36877,3687\n"
     ]
    }
   ],
   "source": [
    "# send the query message\n",
    "# TODO: package this as a function\n",
    "my_msg = {}\n",
    "my_msg[\"TYPE\"] = \"QUERY_taxi\"\n",
    "\n",
    "sim_client.send_query_message(my_msg)"
   ]
  },
  {
   "cell_type": "code",
   "execution_count": 26,
   "metadata": {},
   "outputs": [
    {
     "name": "stdout",
     "output_type": "stream",
     "text": [
      "ws://localhost:55170 : {\"vid\":36864,\"pass_num\":0,\"origin\":140,\"x\":-73.87362864289098,\"y\":40.774375705932236,\"state\":0,\"dest\n"
     ]
    },
    {
     "name": "stdout",
     "output_type": "stream",
     "text": [
      "ws://localhost:55170 : {\"TICK\":101,\"TYPE\":\"STEP\"}\n"
     ]
    }
   ],
   "source": [
    "my_msg = {}\n",
    "my_msg[\"TYPE\"] = \"QUERY_taxi\"\n",
    "my_msg[\"ID\"] = 36864\n",
    "\n",
    "sim_client.send_query_message(my_msg)"
   ]
  }
 ],
 "metadata": {
  "kernelspec": {
   "display_name": "pt39",
   "language": "python",
   "name": "python3"
  },
  "language_info": {
   "codemirror_mode": {
    "name": "ipython",
    "version": 3
   },
   "file_extension": ".py",
   "mimetype": "text/x-python",
   "name": "python",
   "nbconvert_exporter": "python",
   "pygments_lexer": "ipython3",
   "version": "3.9.18"
  }
 },
 "nbformat": 4,
 "nbformat_minor": 2
}
