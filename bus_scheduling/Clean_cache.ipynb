{
 "cells": [
  {
   "cell_type": "code",
   "execution_count": 2,
   "id": "8a6c127c-c054-4b16-922f-5e27a711219e",
   "metadata": {},
   "outputs": [],
   "source": [
    "import os\n",
    "import json"
   ]
  },
  {
   "cell_type": "code",
   "execution_count": 3,
   "id": "79099dfb-ab6c-4101-b0e4-02c2a4f6b7b7",
   "metadata": {},
   "outputs": [],
   "source": [
    "source = \"offline_cache/\"\n",
    "target = \"offline_cache_cleaned/\""
   ]
  },
  {
   "cell_type": "code",
   "execution_count": 11,
   "id": "87321f09-f587-4e32-bd73-f046c301cf53",
   "metadata": {},
   "outputs": [],
   "source": [
    "for cache in os.listdir(\"offline_cache/\"):\n",
    "    filename = (source + cache)\n",
    "    max_bus = int(cache.split(\"_\")[-3])//3+1\n",
    "    with open(filename) as f:\n",
    "        res = {}\n",
    "        data = json.load(f)\n",
    "        for hour in range(0,48,2):\n",
    "            res2={}\n",
    "            for hub in ['JFK','LGA','PENN']:\n",
    "                schedule = json.loads(data[str(hour)][hub])\n",
    "                bus_route_str = []\n",
    "                bus_route = []\n",
    "                bus_num = []\n",
    "                bus_gap = []\n",
    "                bus_routename = []\n",
    "                # MSG_TYPE, Bus_currenthour\n",
    "                total_bus = 0\n",
    "                for i in range(len(schedule['Bus_route'])):\n",
    "                    if str(schedule['Bus_route'][i]) not in bus_route_str:\n",
    "                        if(schedule['Bus_num'][i] > 0):\n",
    "                            bus_route_str.append(str(schedule['Bus_route'][i]))\n",
    "                            bus_route.append(schedule['Bus_route'][i])\n",
    "                            bus_num.append(schedule['Bus_num'][i])\n",
    "                            total_bus += schedule['Bus_num'][i]\n",
    "                            bus_gap.append(schedule['Bus_gap'][i])\n",
    "                            bus_routename.append(schedule['Bus_routename'][i])\n",
    "                    else:\n",
    "                        j = bus_route_str.index(str(schedule['Bus_route'][i]))\n",
    "                        bus_gap[j] = (bus_gap[j]*bus_num[j]+schedule['Bus_gap'][i]*schedule['Bus_num'][i])/(schedule['Bus_num'][i]+bus_num[j])\n",
    "                        bus_num[j] += schedule['Bus_num'][i]\n",
    "                        total_bus += schedule['Bus_num'][i]\n",
    "                schedule={\"Bus_route\":bus_route, \"Bus_num\":bus_num,\\\n",
    "                         \"Bus_gap\":bus_gap,\"Bus_routename\":bus_routename,\\\n",
    "                         \"MSG_TYPE\": \"BUS_SCHEDULE\",\\\n",
    "                         \"Bus_currenthour\":str(hour)}\n",
    "                # Post process, in case the optimization violating its constraints..\n",
    "                if(total_bus > max_bus):\n",
    "                    discount_rate = max_bus/total_bus\n",
    "                    for i in range(len(schedule['Bus_route'])):\n",
    "                        schedule['Bus_num'][i] = round(schedule['Bus_num'][i] * discount_rate)\n",
    "                        schedule['Bus_gap'][i] = schedule['Bus_gap'][i] / discount_rate\n",
    "                res2[hub] = json.dumps(schedule)\n",
    "            res[str(hour)] = res2\n",
    "    filename = (target + cache)\n",
    "    with open(filename,'w') as f:\n",
    "        json.dump(res,f)"
   ]
  },
  {
   "cell_type": "code",
   "execution_count": null,
   "id": "996539f2-582c-4bd9-b745-255acf914c7d",
   "metadata": {},
   "outputs": [],
   "source": []
  }
 ],
 "metadata": {
  "kernelspec": {
   "display_name": "Python 3 (ipykernel)",
   "language": "python",
   "name": "python3"
  },
  "language_info": {
   "codemirror_mode": {
    "name": "ipython",
    "version": 3
   },
   "file_extension": ".py",
   "mimetype": "text/x-python",
   "name": "python",
   "nbconvert_exporter": "python",
   "pygments_lexer": "ipython3",
   "version": "3.8.0"
  }
 },
 "nbformat": 4,
 "nbformat_minor": 5
}
