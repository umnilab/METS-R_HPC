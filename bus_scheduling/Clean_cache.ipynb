{
 "cells": [
  {
   "cell_type": "code",
   "execution_count": 2,
   "id": "8a6c127c-c054-4b16-922f-5e27a711219e",
   "metadata": {},
   "outputs": [],
   "source": [
    "import os\n",
    "import json"
   ]
  },
  {
   "cell_type": "code",
   "execution_count": 3,
   "id": "79099dfb-ab6c-4101-b0e4-02c2a4f6b7b7",
   "metadata": {},
   "outputs": [],
   "source": [
    "source = \"offline_cache/\"\n",
    "target = \"offline_cache_cleaned/\""
   ]
  },
  {
   "cell_type": "code",
   "execution_count": 11,
   "id": "87321f09-f587-4e32-bd73-f046c301cf53",
   "metadata": {},
   "outputs": [],
   "source": [
    "for cache in os.listdir(source):\n",
    "    filename = (source + cache)\n",
    "    max_bus = int(cache.split(\"_\")[-3])//3+1\n",
    "    with open(filename) as f:\n",
    "        res = {}\n",
    "        data = json.load(f)\n",
    "        for hour in range(0,30,2):\n",
    "            res2={}\n",
    "            for hub in ['JFK','LGA','PENN']:\n",
    "                schedule = json.loads(data[str(hour)][hub])\n",
    "                bus_route_str = []\n",
    "                bus_route = []\n",
    "                bus_num = []\n",
    "                bus_gap = []\n",
    "                bus_routename = []\n",
    "                # MSG_TYPE, Bus_currenthour\n",
    "                total_bus = 0\n",
    "                for i in range(len(schedule['Bus_route'])):\n",
    "                    if(schedule['Bus_route'][i][0] != schedule['Bus_route'][i][-1]):\n",
    "                        schedule['Bus_route'][i].append(schedule['Bus_route'][i][0])\n",
    "\n",
    "                    if str(schedule['Bus_route'][i]) not in bus_route_str:\n",
    "                        if(schedule['Bus_num'][i] > 0):\n",
    "                            bus_route_str.append(str(schedule['Bus_route'][i]))\n",
    "                            bus_route.append(schedule['Bus_route'][i])\n",
    "                            bus_num.append(schedule['Bus_num'][i])\n",
    "                            total_bus += schedule['Bus_num'][i]\n",
    "                            bus_gap.append(schedule['Bus_gap'][i])\n",
    "                            bus_routename.append(schedule['Bus_routename'][i])\n",
    "                    else:\n",
    "                        j = bus_route_str.index(str(schedule['Bus_route'][i]))\n",
    "                        bus_gap[j] = (bus_gap[j]*bus_num[j]+schedule['Bus_gap'][i]*schedule['Bus_num'][i])/(schedule['Bus_num'][i]+bus_num[j])\n",
    "                        bus_num[j] += schedule['Bus_num'][i]\n",
    "                        total_bus += schedule['Bus_num'][i]\n",
    "                schedule={\"Bus_route\":bus_route, \"Bus_num\":bus_num,\\\n",
    "                         \"Bus_gap\":bus_gap,\"Bus_routename\":bus_routename,\\\n",
    "                         \"MSG_TYPE\": \"BUS_SCHEDULE\",\\\n",
    "                         \"Bus_currenthour\":str(hour)}\n",
    "                # Post process, in case the optimization violating its constraints..\n",
    "                if(total_bus > max_bus):\n",
    "                    discount_rate = max_bus/total_bus\n",
    "                    for i in range(len(schedule['Bus_route'])):\n",
    "                        schedule['Bus_num'][i] = round(schedule['Bus_num'][i] * discount_rate)\n",
    "                        schedule['Bus_gap'][i] = schedule['Bus_gap'][i] / discount_rate\n",
    "                res2[hub] = json.dumps(schedule)\n",
    "            res[str(hour)] = res2\n",
    "    filename = (target + cache)\n",
    "    with open(filename,'w') as f:\n",
    "        json.dump(res,f)"
   ]
  },
  {
   "cell_type": "code",
   "execution_count": null,
   "id": "996539f2-582c-4bd9-b745-255acf914c7d",
   "metadata": {},
   "outputs": [],
   "source": [
    "source = \"static_cache/\"\n",
    "target = \"static_cache_cleaned/\""
   ]
  },
  {
   "cell_type": "code",
   "execution_count": null,
   "id": "027c530e",
   "metadata": {},
   "outputs": [],
   "source": [
    "for cache in os.listdir(source):\n",
    "    filename = (source + cache)\n",
    "    with open(filename) as f:\n",
    "        schedule = json.load(f)\n",
    "        bus_route_str = []\n",
    "        bus_route = []\n",
    "        bus_num = []\n",
    "        bus_gap = []\n",
    "        bus_routename = []\n",
    "        # MSG_TYPE, Bus_currenthour\n",
    "        for i in range(len(schedule['routes'])):\n",
    "            if(schedule['routes'][i][0] != schedule['routes'][i][-1]):\n",
    "                schedule['routes'][i].append(schedule['routes'][i][0])\n",
    "\n",
    "            if str(schedule['routes'][i]) not in bus_route_str:\n",
    "                if(schedule['nums'][i] > 0):\n",
    "                    bus_route_str.append(str(schedule['routes'][i]))\n",
    "                    bus_route.append(schedule['routes'][i])\n",
    "                    bus_num.append(schedule['nums'][i]*15)\n",
    "                    bus_gap.append(schedule['gaps'][i])\n",
    "                    bus_routename.append(schedule['names'][i])\n",
    "            else:\n",
    "                j = bus_route_str.index(str(schedule['routes'][i]))\n",
    "                bus_gap[j] = (bus_gap[j]*bus_num[j]+schedule['gaps'][i]*schedule['nums'][i])/(schedule['nums'][i]+bus_num[j])\n",
    "                bus_num[j] += schedule['nums'][i]*15\n",
    "        schedule={\"routes\":bus_route, \"nums\":bus_num,\\\n",
    "                    \"gaps\":bus_gap,\"names\":bus_routename}\n",
    "        # Post process, in case the optimization violating its constraints.\n",
    "        res = json.dumps(schedule)\n",
    "    filename = (target + cache)\n",
    "    with open(filename,'w') as f:\n",
    "        json.dump(res,f)"
   ]
  }
 ],
 "metadata": {
  "kernelspec": {
   "display_name": "gp38",
   "language": "python",
   "name": "python3"
  },
  "language_info": {
   "codemirror_mode": {
    "name": "ipython",
    "version": 3
   },
   "file_extension": ".py",
   "mimetype": "text/x-python",
   "name": "python",
   "nbconvert_exporter": "python",
   "pygments_lexer": "ipython3",
   "version": "3.8.13 (default, Oct 19 2022, 22:38:03) [MSC v.1916 64 bit (AMD64)]"
  },
  "vscode": {
   "interpreter": {
    "hash": "fc46e5d6f970846784f3bdb3afc385705c2d95b581539dd0c71cdbad2ecd3c29"
   }
  }
 },
 "nbformat": 4,
 "nbformat_minor": 5
}
